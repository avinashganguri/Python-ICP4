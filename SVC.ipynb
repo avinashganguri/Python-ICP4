{
  "nbformat": 4,
  "nbformat_minor": 0,
  "metadata": {
    "colab": {
      "name": "3.ipynb",
      "provenance": [],
      "authorship_tag": "ABX9TyMYos2iMFOKyjf2doNdlKBp",
      "include_colab_link": true
    },
    "kernelspec": {
      "name": "python3",
      "display_name": "Python 3"
    }
  },
  "cells": [
    {
      "cell_type": "markdown",
      "metadata": {
        "id": "view-in-github",
        "colab_type": "text"
      },
      "source": [
        "<a href=\"https://colab.research.google.com/github/avinashganguri/Python-ICP4/blob/master/SVC.ipynb\" target=\"_parent\"><img src=\"https://colab.research.google.com/assets/colab-badge.svg\" alt=\"Open In Colab\"/></a>"
      ]
    },
    {
      "cell_type": "code",
      "metadata": {
        "id": "RP4wwHNJErAB",
        "colab_type": "code",
        "outputId": "78c85e2d-49d9-4b5a-e607-d2d60c2bcf58",
        "colab": {
          "base_uri": "https://localhost:8080/",
          "height": 169
        }
      },
      "source": [
        "from google.colab import drive\n",
        "drive.mount('/content/drive/')"
      ],
      "execution_count": 0,
      "outputs": [
        {
          "output_type": "stream",
          "text": [
            "Go to this URL in a browser: https://accounts.google.com/o/oauth2/auth?client_id=947318989803-6bn6qk8qdgf4n4g3pfee6491hc0brc4i.apps.googleusercontent.com&redirect_uri=urn%3aietf%3awg%3aoauth%3a2.0%3aoob&response_type=code&scope=email%20https%3a%2f%2fwww.googleapis.com%2fauth%2fdocs.test%20https%3a%2f%2fwww.googleapis.com%2fauth%2fdrive%20https%3a%2f%2fwww.googleapis.com%2fauth%2fdrive.photos.readonly%20https%3a%2f%2fwww.googleapis.com%2fauth%2fpeopleapi.readonly\n",
            "\n",
            "Enter your authorization code:\n",
            "··········\n",
            "Mounted at /content/drive/\n"
          ],
          "name": "stdout"
        }
      ]
    },
    {
      "cell_type": "code",
      "metadata": {
        "id": "wKT-KruZE5q_",
        "colab_type": "code",
        "outputId": "722b5ffa-8bb1-4a85-9f28-c4be9da74e56",
        "colab": {
          "base_uri": "https://localhost:8080/",
          "height": 329
        }
      },
      "source": [
        "import pandas as pd\n",
        "from sklearn.model_selection import train_test_split\n",
        "from sklearn.svm import SVC, LinearSVC\n",
        "from sklearn.metrics import classification_report\n",
        "\n",
        "glass_df = pd.read_csv('drive/My Drive/Colab Notebooks/pythonclass/class4/lesson4/glass.csv')\n",
        "X_train = glass_df.drop(\"Type\",axis=1)\n",
        "Y_train = glass_df[\"Type\"]\n",
        "\n",
        "\n",
        "X_train, X_test, Y_train, Y_test= train_test_split(X_train, Y_train, test_size=0.4, random_state=0)\n",
        "\n",
        "##SVM\n",
        "svc = SVC()\n",
        "svc.fit(X_train, Y_train)\n",
        "Y_pred = svc.predict(X_test)\n",
        "acc_svc = round(svc.score(X_train, Y_train) * 100, 2)\n",
        "print(\"svm accuracy is:\", acc_svc)\n",
        "print(classification_report(Y_test,Y_pred))"
      ],
      "execution_count": 0,
      "outputs": [
        {
          "output_type": "stream",
          "text": [
            "svm accuracy is: 33.59\n",
            "              precision    recall  f1-score   support\n",
            "\n",
            "           1       0.00      0.00      0.00        28\n",
            "           2       0.38      1.00      0.55        33\n",
            "           3       0.00      0.00      0.00        11\n",
            "           5       0.00      0.00      0.00         2\n",
            "           6       0.00      0.00      0.00         3\n",
            "           7       0.00      0.00      0.00         9\n",
            "\n",
            "    accuracy                           0.38        86\n",
            "   macro avg       0.06      0.17      0.09        86\n",
            "weighted avg       0.15      0.38      0.21        86\n",
            "\n"
          ],
          "name": "stdout"
        },
        {
          "output_type": "stream",
          "text": [
            "/usr/local/lib/python3.6/dist-packages/sklearn/metrics/_classification.py:1272: UndefinedMetricWarning: Precision and F-score are ill-defined and being set to 0.0 in labels with no predicted samples. Use `zero_division` parameter to control this behavior.\n",
            "  _warn_prf(average, modifier, msg_start, len(result))\n"
          ],
          "name": "stderr"
        }
      ]
    }
  ]
}