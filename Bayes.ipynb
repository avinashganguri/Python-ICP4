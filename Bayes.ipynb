{
  "nbformat": 4,
  "nbformat_minor": 0,
  "metadata": {
    "colab": {
      "name": "2.ipynb",
      "provenance": [],
      "authorship_tag": "ABX9TyM0b8EdcnaHZKvXP7dnhDjr",
      "include_colab_link": true
    },
    "kernelspec": {
      "name": "python3",
      "display_name": "Python 3"
    }
  },
  "cells": [
    {
      "cell_type": "markdown",
      "metadata": {
        "id": "view-in-github",
        "colab_type": "text"
      },
      "source": [
        "<a href=\"https://colab.research.google.com/github/avinashganguri/Python-ICP4/blob/master/Bayes.ipynb\" target=\"_parent\"><img src=\"https://colab.research.google.com/assets/colab-badge.svg\" alt=\"Open In Colab\"/></a>"
      ]
    },
    {
      "cell_type": "code",
      "metadata": {
        "id": "rumRUY4bFg1K",
        "colab_type": "code",
        "outputId": "e95b335a-080a-418f-ee70-39806c77cd25",
        "colab": {
          "base_uri": "https://localhost:8080/",
          "height": 169
        }
      },
      "source": [
        "from google.colab import drive\n",
        "drive.mount('/content/drive/')\n"
      ],
      "execution_count": 0,
      "outputs": [
        {
          "output_type": "stream",
          "text": [
            "Go to this URL in a browser: https://accounts.google.com/o/oauth2/auth?client_id=947318989803-6bn6qk8qdgf4n4g3pfee6491hc0brc4i.apps.googleusercontent.com&redirect_uri=urn%3aietf%3awg%3aoauth%3a2.0%3aoob&response_type=code&scope=email%20https%3a%2f%2fwww.googleapis.com%2fauth%2fdocs.test%20https%3a%2f%2fwww.googleapis.com%2fauth%2fdrive%20https%3a%2f%2fwww.googleapis.com%2fauth%2fdrive.photos.readonly%20https%3a%2f%2fwww.googleapis.com%2fauth%2fpeopleapi.readonly\n",
            "\n",
            "Enter your authorization code:\n",
            "··········\n",
            "Mounted at /content/drive/\n"
          ],
          "name": "stdout"
        }
      ]
    },
    {
      "cell_type": "code",
      "metadata": {
        "id": "nIWTy6qIFuL9",
        "colab_type": "code",
        "outputId": "4d05ec49-4c93-4332-e55b-72f369c1484c",
        "colab": {
          "base_uri": "https://localhost:8080/",
          "height": 255
        }
      },
      "source": [
        "import pandas as pd\n",
        "from sklearn.model_selection import train_test_split\n",
        "from sklearn.naive_bayes import GaussianNB\n",
        "from sklearn.metrics import classification_report\n",
        "\n",
        "\n",
        "train_df = pd.read_csv('drive/My Drive/Colab Notebooks/pythonclass/class4/lesson4/glass.csv')\n",
        "X_train = train_df.drop(\"Type\",axis=1)\n",
        "Y_train = train_df[\"Type\"]\n",
        "\n",
        "\n",
        "X_train, X_test, Y_train, y_test= train_test_split(X_train, Y_train, test_size=0.4, random_state=0)\n",
        "gnb = GaussianNB()\n",
        "\n",
        "y_pred = gnb.fit(X_train, Y_train).predict(X_test)\n",
        "gnb.fit(X_train, Y_train)\n",
        "Y_pred = gnb.predict(X_test)\n",
        "acc_gnb = round(gnb.score(X_train, Y_train) * 100, 2)\n",
        "print(\"GNB accuracy is:\",acc_gnb)\n",
        "print(classification_report(y_test,Y_pred))"
      ],
      "execution_count": 0,
      "outputs": [
        {
          "output_type": "stream",
          "text": [
            "GNB accuracy is: 42.97\n",
            "              precision    recall  f1-score   support\n",
            "\n",
            "           1       0.33      0.04      0.06        28\n",
            "           2       0.56      0.15      0.24        33\n",
            "           3       0.16      0.73      0.26        11\n",
            "           5       0.20      0.50      0.29         2\n",
            "           6       0.43      1.00      0.60         3\n",
            "           7       0.82      1.00      0.90         9\n",
            "\n",
            "    accuracy                           0.31        86\n",
            "   macro avg       0.42      0.57      0.39        86\n",
            "weighted avg       0.45      0.31      0.27        86\n",
            "\n"
          ],
          "name": "stdout"
        }
      ]
    }
  ]
}